{
 "cells": [
  {
   "cell_type": "code",
   "execution_count": 4,
   "id": "3eadbf1a",
   "metadata": {},
   "outputs": [],
   "source": [
    "import os\n",
    "import shutil\n",
    "import numpy as np\n",
    "import matplotlib.pyplot as plt\n",
    "import tensorflow as tf\n",
    "from tensorflow.keras.models import Sequential\n",
    "from tensorflow.keras.layers import Conv2D, MaxPooling2D, Flatten, Dense, Dropout, BatchNormalization\n",
    "from tensorflow.keras.preprocessing.image import ImageDataGenerator\n",
    "from tensorflow.keras.optimizers import RMSprop\n",
    "from tensorflow.keras.callbacks import EarlyStopping, ModelCheckpoint, ReduceLROnPlateau, Callback\n",
    "from sklearn.metrics import classification_report, confusion_matrix\n",
    "from sklearn.model_selection import train_test_split\n",
    "from PIL import Image\n",
    "import seaborn as sns\n",
    "\n",
    "import cv2\n",
    "import random\n",
    "from skimage.transform import rotate, AffineTransform, warp\n",
    "from skimage.exposure import adjust_gamma\n",
    "from tqdm import tqdm"
   ]
  },
  {
   "cell_type": "markdown",
   "id": "476753a8",
   "metadata": {},
   "source": [
    "Pertama pembersihan data"
   ]
  },
  {
   "cell_type": "code",
   "execution_count": 21,
   "id": "f537ea5e",
   "metadata": {},
   "outputs": [
    {
     "name": "stdout",
     "output_type": "stream",
     "text": [
      "Total file tidak valid yang dihapus: 0\n"
     ]
    }
   ],
   "source": [
    "# ==== FUNGSI UNTUK MENGHAPUS GAMBAR NON-VALID ====\n",
    "def remove_invalid_images(directory):\n",
    "    removed = 0\n",
    "    for root, _, files in os.walk(directory):\n",
    "        for file in files:\n",
    "            file_path = os.path.join(root, file)\n",
    "            img = cv2.imread(file_path)\n",
    "            if img is None:\n",
    "                print(f\"Menghapus file tidak valid: {file_path}\")\n",
    "                os.remove(file_path)\n",
    "                removed += 1\n",
    "    print(f\"Total file tidak valid yang dihapus: {removed}\")\n",
    "\n",
    "\n",
    "\n",
    "# Jalankan fungsi untuk menghapus gambar non-valid\n",
    "remove_invalid_images(\"datasets/all_data\")\n"
   ]
  },
  {
   "cell_type": "markdown",
   "id": "dd30772a",
   "metadata": {},
   "source": [
    "Kedua adalah proses splitting dan pembersihan gambar dataset. Rasio splitnya adalah Train: 70%, Validation: 15%, Test: 15%"
   ]
  },
  {
   "cell_type": "code",
   "execution_count": 8,
   "id": "4e45b40f",
   "metadata": {},
   "outputs": [
    {
     "name": "stdout",
     "output_type": "stream",
     "text": [
      "Menyalin file ke folder datasets/...\n",
      "Total di datasets/train: 8725 Cat, 8721 Dog, Total: 17446\n",
      "Total di datasets/val: 2501 Cat, 2499 Dog, Total: 5000\n",
      "Total di datasets/test: 1250 Cat, 1250 Dog, Total: 2500\n"
     ]
    }
   ],
   "source": [
    "\n",
    "# Ambil semua path gambar dan label\n",
    "def collect_images_and_labels(base_dir):\n",
    "    images, labels = [], []\n",
    "    for label, class_name in enumerate([\"Cat\", \"Dog\"]):\n",
    "        class_dir = os.path.join(base_dir, class_name)\n",
    "        for fname in os.listdir(class_dir):\n",
    "            images.append(os.path.join(class_dir, fname))\n",
    "            labels.append(label)\n",
    "    return images, labels\n",
    "\n",
    "all_images, all_labels = collect_images_and_labels(\"datasets/all_data\")\n",
    "\n",
    "# Split test set terlebih dahulu agar independen\n",
    "X_trainval, X_test, y_trainval, y_test = train_test_split(\n",
    "    all_images, all_labels, test_size=2500, stratify=all_labels, random_state=42\n",
    ")\n",
    "\n",
    "# Lalu split train dan val\n",
    "X_train, X_val, y_train, y_val = train_test_split(\n",
    "    X_trainval, y_trainval, test_size=5000, stratify=y_trainval, random_state=42\n",
    ")\n",
    "\n",
    "# Fungsi untuk copy gambar ke direktori target\n",
    "def copy_files(image_paths, labels, target_dir):\n",
    "    os.makedirs(target_dir, exist_ok=True)\n",
    "    count_cat = count_dog = 0\n",
    "\n",
    "    for img_path, label in zip(image_paths, labels):\n",
    "        class_name = \"Cat\" if label == 0 else \"Dog\"\n",
    "        dest_class_dir = os.path.join(target_dir, class_name)\n",
    "        os.makedirs(dest_class_dir, exist_ok=True)\n",
    "        shutil.copy(img_path, dest_class_dir)\n",
    "        if label == 0:\n",
    "            count_cat += 1\n",
    "        else:\n",
    "            count_dog += 1\n",
    "\n",
    "    print(f\"Total di {target_dir}: {count_cat} Cat, {count_dog} Dog, Total: {count_cat + count_dog}\")\n",
    "\n",
    "# Salin file ke folder datasets/\n",
    "print(\"Menyalin file ke folder datasets/...\")\n",
    "copy_files(X_train, y_train, \"datasets/train\")\n",
    "copy_files(X_val, y_val, \"datasets/val\")\n",
    "copy_files(X_test, y_test, \"datasets/test\")"
   ]
  },
  {
   "cell_type": "markdown",
   "id": "3ed3d87d",
   "metadata": {},
   "source": [
    "Membersihkan data gambar yang tidak valid"
   ]
  },
  {
   "cell_type": "code",
   "execution_count": null,
   "id": "b0964e96",
   "metadata": {},
   "outputs": [
    {
     "name": "stdout",
     "output_type": "stream",
     "text": [
      "Membersihkan gambar rusak setelah proses split...\n"
     ]
    },
    {
     "name": "stderr",
     "output_type": "stream",
     "text": [
      "d:\\PROJECT\\SIB DBS FOUNDATION\\submission klasifikasi gambar\\catdogs1000\\submissionFiqi\\.venv\\Lib\\site-packages\\PIL\\TiffImagePlugin.py:950: UserWarning: Truncated File Read\n",
      "  warnings.warn(str(msg))\n"
     ]
    },
    {
     "name": "stdout",
     "output_type": "stream",
     "text": [
      "Removed invalid image: datasets/train\\Dogs\\Thumbs.db\n",
      "Total removed from datasets/train: 1\n",
      "Removed invalid image: datasets/val\\Cats\\666.jpg\n",
      "Removed invalid image: datasets/val\\Cats\\Thumbs.db\n",
      "Removed invalid image: datasets/val\\Dogs\\11702.jpg\n",
      "Total removed from datasets/val: 3\n",
      "Removed invalid image: datasets/test\\Cats\\666.jpg\n",
      "Removed invalid image: datasets/test\\Cats\\Thumbs.db\n",
      "Removed invalid image: datasets/test\\Dogs\\11702.jpg\n",
      "Removed invalid image: datasets/test\\Dogs\\Thumbs.db\n",
      "Total removed from datasets/test: 4\n"
     ]
    }
   ],
   "source": [
    "# ===============================\n",
    "#  Fungsi Pembersih Gambar Rusak\n",
    "# ===============================\n",
    "# def remove_invalid_images(directory):\n",
    "#     removed = 0\n",
    "#     for root, _, files in os.walk(directory):\n",
    "#         for name in files:\n",
    "#             file_path = os.path.join(root, name)\n",
    "#             try:\n",
    "#                 img = Image.open(file_path)\n",
    "#                 img.verify()\n",
    "#             except:\n",
    "#                 os.remove(file_path)\n",
    "#                 removed += 1\n",
    "#                 print(f\"Removed invalid image: {file_path}\")\n",
    "#     print(f\"Total removed from {directory}: {removed}\")\n",
    "\n",
    "\n",
    "# # ===============================\n",
    "# #  Pembersihan Gambar Rusak SETELAH Split\n",
    "# # ===============================\n",
    "# print(\"Membersihkan gambar rusak setelah proses split...\")\n",
    "# remove_invalid_images('datasets/train')\n",
    "# remove_invalid_images('datasets/val')\n",
    "# remove_invalid_images('datasets/test')"
   ]
  },
  {
   "cell_type": "code",
   "execution_count": 9,
   "id": "b7078b79",
   "metadata": {},
   "outputs": [
    {
     "name": "stdout",
     "output_type": "stream",
     "text": [
      "=== Validation Set ===\n",
      "Val - Cats: 2501\n",
      "Val - Dogs: 2499\n",
      "Total Val: 5000\n",
      "\n",
      "=== Training Set ===\n",
      "Train - Cats: 8725\n",
      "Train - Dogs: 8721\n",
      "Total Train: 17446\n",
      "\n",
      "=== Testing Set ===\n",
      "Test - Cats: 1250\n",
      "Test - Dogs: 1250\n",
      "Total Test: 2500\n"
     ]
    }
   ],
   "source": [
    "\n",
    "# Validasi\n",
    "print(\"=== Validation Set ===\")\n",
    "print(\"Val - Cats:\", len(os.listdir(\"datasets/val/Cat\")))\n",
    "print(\"Val - Dogs:\", len(os.listdir(\"datasets/val/Dog\")))\n",
    "print(\"Total Val:\", len(os.listdir(\"datasets/val/Cat\")) + len(os.listdir(\"datasets/val/Dog\")))\n",
    "print()\n",
    "\n",
    "# Training\n",
    "print(\"=== Training Set ===\")\n",
    "print(\"Train - Cats:\", len(os.listdir(\"datasets/train/Cat\")))\n",
    "print(\"Train - Dogs:\", len(os.listdir(\"datasets/train/Dog\")))\n",
    "print(\"Total Train:\", len(os.listdir(\"datasets/train/Cat\")) + len(os.listdir(\"datasets/train/Dog\")))\n",
    "print()\n",
    "\n",
    "# Testing\n",
    "print(\"=== Testing Set ===\")\n",
    "print(\"Test - Cats:\", len(os.listdir(\"datasets/test/Cat\")))\n",
    "print(\"Test - Dogs:\", len(os.listdir(\"datasets/test/Dog\")))\n",
    "print(\"Total Test:\", len(os.listdir(\"datasets/test/Cat\")) + len(os.listdir(\"datasets/test/Dog\")))"
   ]
  },
  {
   "cell_type": "markdown",
   "id": "11bac4ee",
   "metadata": {},
   "source": [
    "Lanjut ke proses pipeline data loading"
   ]
  },
  {
   "cell_type": "code",
   "execution_count": 10,
   "id": "42244eec",
   "metadata": {},
   "outputs": [
    {
     "name": "stdout",
     "output_type": "stream",
     "text": [
      "Found 17446 images belonging to 2 classes.\n",
      "Found 5000 images belonging to 2 classes.\n",
      "Found 2500 images belonging to 2 classes.\n"
     ]
    }
   ],
   "source": [
    "train_datagen = ImageDataGenerator(\n",
    "    rescale=1./255\n",
    ")\n",
    "\n",
    "val_datagen = ImageDataGenerator(rescale=1./255)\n",
    "test_datagen = ImageDataGenerator(rescale=1./255)\n",
    "\n",
    "train_generator = train_datagen.flow_from_directory(\n",
    "    \"datasets/train\",\n",
    "    target_size=(150, 150),\n",
    "    batch_size=32,\n",
    "    class_mode='binary',\n",
    "    color_mode='grayscale'\n",
    ")\n",
    "\n",
    "validation_generator = val_datagen.flow_from_directory(\n",
    "    \"datasets/val\",\n",
    "    target_size=(150, 150),\n",
    "    batch_size=32,\n",
    "    class_mode='binary',\n",
    "    color_mode='grayscale'\n",
    ")\n",
    "\n",
    "test_generator = test_datagen.flow_from_directory(\n",
    "    \"datasets/test\",\n",
    "    target_size=(150, 150),\n",
    "    batch_size=32,\n",
    "    class_mode='binary',\n",
    "    shuffle=False,\n",
    "    color_mode='grayscale'\n",
    ")"
   ]
  },
  {
   "cell_type": "markdown",
   "id": "fb0cd252",
   "metadata": {},
   "source": [
    "Kemudian lanjut mendefinisikan arsitektur model CNN menggunakan Sequential dari Keras, untuk klasifikasi biner gambar grayscale berukuran 150x150"
   ]
  },
  {
   "cell_type": "code",
   "execution_count": 11,
   "id": "7848e44a",
   "metadata": {},
   "outputs": [
    {
     "name": "stderr",
     "output_type": "stream",
     "text": [
      "d:\\PROJECT\\SIB DBS FOUNDATION\\submission klasifikasi gambar rev3\\submissionFiqi\\.env39\\lib\\site-packages\\keras\\src\\layers\\convolutional\\base_conv.py:107: UserWarning: Do not pass an `input_shape`/`input_dim` argument to a layer. When using Sequential models, prefer using an `Input(shape)` object as the first layer in the model instead.\n",
      "  super().__init__(activity_regularizer=activity_regularizer, **kwargs)\n"
     ]
    },
    {
     "data": {
      "text/html": [
       "<pre style=\"white-space:pre;overflow-x:auto;line-height:normal;font-family:Menlo,'DejaVu Sans Mono',consolas,'Courier New',monospace\"><span style=\"font-weight: bold\">Model: \"sequential\"</span>\n",
       "</pre>\n"
      ],
      "text/plain": [
       "\u001b[1mModel: \"sequential\"\u001b[0m\n"
      ]
     },
     "metadata": {},
     "output_type": "display_data"
    },
    {
     "data": {
      "text/html": [
       "<pre style=\"white-space:pre;overflow-x:auto;line-height:normal;font-family:Menlo,'DejaVu Sans Mono',consolas,'Courier New',monospace\">┏━━━━━━━━━━━━━━━━━━━━━━━━━━━━━━━━━┳━━━━━━━━━━━━━━━━━━━━━━━━┳━━━━━━━━━━━━━━━┓\n",
       "┃<span style=\"font-weight: bold\"> Layer (type)                    </span>┃<span style=\"font-weight: bold\"> Output Shape           </span>┃<span style=\"font-weight: bold\">       Param # </span>┃\n",
       "┡━━━━━━━━━━━━━━━━━━━━━━━━━━━━━━━━━╇━━━━━━━━━━━━━━━━━━━━━━━━╇━━━━━━━━━━━━━━━┩\n",
       "│ conv2d (<span style=\"color: #0087ff; text-decoration-color: #0087ff\">Conv2D</span>)                 │ (<span style=\"color: #00d7ff; text-decoration-color: #00d7ff\">None</span>, <span style=\"color: #00af00; text-decoration-color: #00af00\">150</span>, <span style=\"color: #00af00; text-decoration-color: #00af00\">150</span>, <span style=\"color: #00af00; text-decoration-color: #00af00\">32</span>)   │           <span style=\"color: #00af00; text-decoration-color: #00af00\">320</span> │\n",
       "├─────────────────────────────────┼────────────────────────┼───────────────┤\n",
       "│ batch_normalization             │ (<span style=\"color: #00d7ff; text-decoration-color: #00d7ff\">None</span>, <span style=\"color: #00af00; text-decoration-color: #00af00\">150</span>, <span style=\"color: #00af00; text-decoration-color: #00af00\">150</span>, <span style=\"color: #00af00; text-decoration-color: #00af00\">32</span>)   │           <span style=\"color: #00af00; text-decoration-color: #00af00\">128</span> │\n",
       "│ (<span style=\"color: #0087ff; text-decoration-color: #0087ff\">BatchNormalization</span>)            │                        │               │\n",
       "├─────────────────────────────────┼────────────────────────┼───────────────┤\n",
       "│ max_pooling2d (<span style=\"color: #0087ff; text-decoration-color: #0087ff\">MaxPooling2D</span>)    │ (<span style=\"color: #00d7ff; text-decoration-color: #00d7ff\">None</span>, <span style=\"color: #00af00; text-decoration-color: #00af00\">75</span>, <span style=\"color: #00af00; text-decoration-color: #00af00\">75</span>, <span style=\"color: #00af00; text-decoration-color: #00af00\">32</span>)     │             <span style=\"color: #00af00; text-decoration-color: #00af00\">0</span> │\n",
       "├─────────────────────────────────┼────────────────────────┼───────────────┤\n",
       "│ conv2d_1 (<span style=\"color: #0087ff; text-decoration-color: #0087ff\">Conv2D</span>)               │ (<span style=\"color: #00d7ff; text-decoration-color: #00d7ff\">None</span>, <span style=\"color: #00af00; text-decoration-color: #00af00\">75</span>, <span style=\"color: #00af00; text-decoration-color: #00af00\">75</span>, <span style=\"color: #00af00; text-decoration-color: #00af00\">64</span>)     │        <span style=\"color: #00af00; text-decoration-color: #00af00\">18,496</span> │\n",
       "├─────────────────────────────────┼────────────────────────┼───────────────┤\n",
       "│ batch_normalization_1           │ (<span style=\"color: #00d7ff; text-decoration-color: #00d7ff\">None</span>, <span style=\"color: #00af00; text-decoration-color: #00af00\">75</span>, <span style=\"color: #00af00; text-decoration-color: #00af00\">75</span>, <span style=\"color: #00af00; text-decoration-color: #00af00\">64</span>)     │           <span style=\"color: #00af00; text-decoration-color: #00af00\">256</span> │\n",
       "│ (<span style=\"color: #0087ff; text-decoration-color: #0087ff\">BatchNormalization</span>)            │                        │               │\n",
       "├─────────────────────────────────┼────────────────────────┼───────────────┤\n",
       "│ max_pooling2d_1 (<span style=\"color: #0087ff; text-decoration-color: #0087ff\">MaxPooling2D</span>)  │ (<span style=\"color: #00d7ff; text-decoration-color: #00d7ff\">None</span>, <span style=\"color: #00af00; text-decoration-color: #00af00\">37</span>, <span style=\"color: #00af00; text-decoration-color: #00af00\">37</span>, <span style=\"color: #00af00; text-decoration-color: #00af00\">64</span>)     │             <span style=\"color: #00af00; text-decoration-color: #00af00\">0</span> │\n",
       "├─────────────────────────────────┼────────────────────────┼───────────────┤\n",
       "│ conv2d_2 (<span style=\"color: #0087ff; text-decoration-color: #0087ff\">Conv2D</span>)               │ (<span style=\"color: #00d7ff; text-decoration-color: #00d7ff\">None</span>, <span style=\"color: #00af00; text-decoration-color: #00af00\">37</span>, <span style=\"color: #00af00; text-decoration-color: #00af00\">37</span>, <span style=\"color: #00af00; text-decoration-color: #00af00\">128</span>)    │        <span style=\"color: #00af00; text-decoration-color: #00af00\">73,856</span> │\n",
       "├─────────────────────────────────┼────────────────────────┼───────────────┤\n",
       "│ batch_normalization_2           │ (<span style=\"color: #00d7ff; text-decoration-color: #00d7ff\">None</span>, <span style=\"color: #00af00; text-decoration-color: #00af00\">37</span>, <span style=\"color: #00af00; text-decoration-color: #00af00\">37</span>, <span style=\"color: #00af00; text-decoration-color: #00af00\">128</span>)    │           <span style=\"color: #00af00; text-decoration-color: #00af00\">512</span> │\n",
       "│ (<span style=\"color: #0087ff; text-decoration-color: #0087ff\">BatchNormalization</span>)            │                        │               │\n",
       "├─────────────────────────────────┼────────────────────────┼───────────────┤\n",
       "│ max_pooling2d_2 (<span style=\"color: #0087ff; text-decoration-color: #0087ff\">MaxPooling2D</span>)  │ (<span style=\"color: #00d7ff; text-decoration-color: #00d7ff\">None</span>, <span style=\"color: #00af00; text-decoration-color: #00af00\">18</span>, <span style=\"color: #00af00; text-decoration-color: #00af00\">18</span>, <span style=\"color: #00af00; text-decoration-color: #00af00\">128</span>)    │             <span style=\"color: #00af00; text-decoration-color: #00af00\">0</span> │\n",
       "├─────────────────────────────────┼────────────────────────┼───────────────┤\n",
       "│ flatten (<span style=\"color: #0087ff; text-decoration-color: #0087ff\">Flatten</span>)               │ (<span style=\"color: #00d7ff; text-decoration-color: #00d7ff\">None</span>, <span style=\"color: #00af00; text-decoration-color: #00af00\">41472</span>)          │             <span style=\"color: #00af00; text-decoration-color: #00af00\">0</span> │\n",
       "├─────────────────────────────────┼────────────────────────┼───────────────┤\n",
       "│ dense (<span style=\"color: #0087ff; text-decoration-color: #0087ff\">Dense</span>)                   │ (<span style=\"color: #00d7ff; text-decoration-color: #00d7ff\">None</span>, <span style=\"color: #00af00; text-decoration-color: #00af00\">256</span>)            │    <span style=\"color: #00af00; text-decoration-color: #00af00\">10,617,088</span> │\n",
       "├─────────────────────────────────┼────────────────────────┼───────────────┤\n",
       "│ dropout (<span style=\"color: #0087ff; text-decoration-color: #0087ff\">Dropout</span>)               │ (<span style=\"color: #00d7ff; text-decoration-color: #00d7ff\">None</span>, <span style=\"color: #00af00; text-decoration-color: #00af00\">256</span>)            │             <span style=\"color: #00af00; text-decoration-color: #00af00\">0</span> │\n",
       "├─────────────────────────────────┼────────────────────────┼───────────────┤\n",
       "│ dense_1 (<span style=\"color: #0087ff; text-decoration-color: #0087ff\">Dense</span>)                 │ (<span style=\"color: #00d7ff; text-decoration-color: #00d7ff\">None</span>, <span style=\"color: #00af00; text-decoration-color: #00af00\">64</span>)             │        <span style=\"color: #00af00; text-decoration-color: #00af00\">16,448</span> │\n",
       "├─────────────────────────────────┼────────────────────────┼───────────────┤\n",
       "│ dropout_1 (<span style=\"color: #0087ff; text-decoration-color: #0087ff\">Dropout</span>)             │ (<span style=\"color: #00d7ff; text-decoration-color: #00d7ff\">None</span>, <span style=\"color: #00af00; text-decoration-color: #00af00\">64</span>)             │             <span style=\"color: #00af00; text-decoration-color: #00af00\">0</span> │\n",
       "├─────────────────────────────────┼────────────────────────┼───────────────┤\n",
       "│ dense_2 (<span style=\"color: #0087ff; text-decoration-color: #0087ff\">Dense</span>)                 │ (<span style=\"color: #00d7ff; text-decoration-color: #00d7ff\">None</span>, <span style=\"color: #00af00; text-decoration-color: #00af00\">1</span>)              │            <span style=\"color: #00af00; text-decoration-color: #00af00\">65</span> │\n",
       "└─────────────────────────────────┴────────────────────────┴───────────────┘\n",
       "</pre>\n"
      ],
      "text/plain": [
       "┏━━━━━━━━━━━━━━━━━━━━━━━━━━━━━━━━━┳━━━━━━━━━━━━━━━━━━━━━━━━┳━━━━━━━━━━━━━━━┓\n",
       "┃\u001b[1m \u001b[0m\u001b[1mLayer (type)                   \u001b[0m\u001b[1m \u001b[0m┃\u001b[1m \u001b[0m\u001b[1mOutput Shape          \u001b[0m\u001b[1m \u001b[0m┃\u001b[1m \u001b[0m\u001b[1m      Param #\u001b[0m\u001b[1m \u001b[0m┃\n",
       "┡━━━━━━━━━━━━━━━━━━━━━━━━━━━━━━━━━╇━━━━━━━━━━━━━━━━━━━━━━━━╇━━━━━━━━━━━━━━━┩\n",
       "│ conv2d (\u001b[38;5;33mConv2D\u001b[0m)                 │ (\u001b[38;5;45mNone\u001b[0m, \u001b[38;5;34m150\u001b[0m, \u001b[38;5;34m150\u001b[0m, \u001b[38;5;34m32\u001b[0m)   │           \u001b[38;5;34m320\u001b[0m │\n",
       "├─────────────────────────────────┼────────────────────────┼───────────────┤\n",
       "│ batch_normalization             │ (\u001b[38;5;45mNone\u001b[0m, \u001b[38;5;34m150\u001b[0m, \u001b[38;5;34m150\u001b[0m, \u001b[38;5;34m32\u001b[0m)   │           \u001b[38;5;34m128\u001b[0m │\n",
       "│ (\u001b[38;5;33mBatchNormalization\u001b[0m)            │                        │               │\n",
       "├─────────────────────────────────┼────────────────────────┼───────────────┤\n",
       "│ max_pooling2d (\u001b[38;5;33mMaxPooling2D\u001b[0m)    │ (\u001b[38;5;45mNone\u001b[0m, \u001b[38;5;34m75\u001b[0m, \u001b[38;5;34m75\u001b[0m, \u001b[38;5;34m32\u001b[0m)     │             \u001b[38;5;34m0\u001b[0m │\n",
       "├─────────────────────────────────┼────────────────────────┼───────────────┤\n",
       "│ conv2d_1 (\u001b[38;5;33mConv2D\u001b[0m)               │ (\u001b[38;5;45mNone\u001b[0m, \u001b[38;5;34m75\u001b[0m, \u001b[38;5;34m75\u001b[0m, \u001b[38;5;34m64\u001b[0m)     │        \u001b[38;5;34m18,496\u001b[0m │\n",
       "├─────────────────────────────────┼────────────────────────┼───────────────┤\n",
       "│ batch_normalization_1           │ (\u001b[38;5;45mNone\u001b[0m, \u001b[38;5;34m75\u001b[0m, \u001b[38;5;34m75\u001b[0m, \u001b[38;5;34m64\u001b[0m)     │           \u001b[38;5;34m256\u001b[0m │\n",
       "│ (\u001b[38;5;33mBatchNormalization\u001b[0m)            │                        │               │\n",
       "├─────────────────────────────────┼────────────────────────┼───────────────┤\n",
       "│ max_pooling2d_1 (\u001b[38;5;33mMaxPooling2D\u001b[0m)  │ (\u001b[38;5;45mNone\u001b[0m, \u001b[38;5;34m37\u001b[0m, \u001b[38;5;34m37\u001b[0m, \u001b[38;5;34m64\u001b[0m)     │             \u001b[38;5;34m0\u001b[0m │\n",
       "├─────────────────────────────────┼────────────────────────┼───────────────┤\n",
       "│ conv2d_2 (\u001b[38;5;33mConv2D\u001b[0m)               │ (\u001b[38;5;45mNone\u001b[0m, \u001b[38;5;34m37\u001b[0m, \u001b[38;5;34m37\u001b[0m, \u001b[38;5;34m128\u001b[0m)    │        \u001b[38;5;34m73,856\u001b[0m │\n",
       "├─────────────────────────────────┼────────────────────────┼───────────────┤\n",
       "│ batch_normalization_2           │ (\u001b[38;5;45mNone\u001b[0m, \u001b[38;5;34m37\u001b[0m, \u001b[38;5;34m37\u001b[0m, \u001b[38;5;34m128\u001b[0m)    │           \u001b[38;5;34m512\u001b[0m │\n",
       "│ (\u001b[38;5;33mBatchNormalization\u001b[0m)            │                        │               │\n",
       "├─────────────────────────────────┼────────────────────────┼───────────────┤\n",
       "│ max_pooling2d_2 (\u001b[38;5;33mMaxPooling2D\u001b[0m)  │ (\u001b[38;5;45mNone\u001b[0m, \u001b[38;5;34m18\u001b[0m, \u001b[38;5;34m18\u001b[0m, \u001b[38;5;34m128\u001b[0m)    │             \u001b[38;5;34m0\u001b[0m │\n",
       "├─────────────────────────────────┼────────────────────────┼───────────────┤\n",
       "│ flatten (\u001b[38;5;33mFlatten\u001b[0m)               │ (\u001b[38;5;45mNone\u001b[0m, \u001b[38;5;34m41472\u001b[0m)          │             \u001b[38;5;34m0\u001b[0m │\n",
       "├─────────────────────────────────┼────────────────────────┼───────────────┤\n",
       "│ dense (\u001b[38;5;33mDense\u001b[0m)                   │ (\u001b[38;5;45mNone\u001b[0m, \u001b[38;5;34m256\u001b[0m)            │    \u001b[38;5;34m10,617,088\u001b[0m │\n",
       "├─────────────────────────────────┼────────────────────────┼───────────────┤\n",
       "│ dropout (\u001b[38;5;33mDropout\u001b[0m)               │ (\u001b[38;5;45mNone\u001b[0m, \u001b[38;5;34m256\u001b[0m)            │             \u001b[38;5;34m0\u001b[0m │\n",
       "├─────────────────────────────────┼────────────────────────┼───────────────┤\n",
       "│ dense_1 (\u001b[38;5;33mDense\u001b[0m)                 │ (\u001b[38;5;45mNone\u001b[0m, \u001b[38;5;34m64\u001b[0m)             │        \u001b[38;5;34m16,448\u001b[0m │\n",
       "├─────────────────────────────────┼────────────────────────┼───────────────┤\n",
       "│ dropout_1 (\u001b[38;5;33mDropout\u001b[0m)             │ (\u001b[38;5;45mNone\u001b[0m, \u001b[38;5;34m64\u001b[0m)             │             \u001b[38;5;34m0\u001b[0m │\n",
       "├─────────────────────────────────┼────────────────────────┼───────────────┤\n",
       "│ dense_2 (\u001b[38;5;33mDense\u001b[0m)                 │ (\u001b[38;5;45mNone\u001b[0m, \u001b[38;5;34m1\u001b[0m)              │            \u001b[38;5;34m65\u001b[0m │\n",
       "└─────────────────────────────────┴────────────────────────┴───────────────┘\n"
      ]
     },
     "metadata": {},
     "output_type": "display_data"
    },
    {
     "data": {
      "text/html": [
       "<pre style=\"white-space:pre;overflow-x:auto;line-height:normal;font-family:Menlo,'DejaVu Sans Mono',consolas,'Courier New',monospace\"><span style=\"font-weight: bold\"> Total params: </span><span style=\"color: #00af00; text-decoration-color: #00af00\">10,727,169</span> (40.92 MB)\n",
       "</pre>\n"
      ],
      "text/plain": [
       "\u001b[1m Total params: \u001b[0m\u001b[38;5;34m10,727,169\u001b[0m (40.92 MB)\n"
      ]
     },
     "metadata": {},
     "output_type": "display_data"
    },
    {
     "data": {
      "text/html": [
       "<pre style=\"white-space:pre;overflow-x:auto;line-height:normal;font-family:Menlo,'DejaVu Sans Mono',consolas,'Courier New',monospace\"><span style=\"font-weight: bold\"> Trainable params: </span><span style=\"color: #00af00; text-decoration-color: #00af00\">10,726,721</span> (40.92 MB)\n",
       "</pre>\n"
      ],
      "text/plain": [
       "\u001b[1m Trainable params: \u001b[0m\u001b[38;5;34m10,726,721\u001b[0m (40.92 MB)\n"
      ]
     },
     "metadata": {},
     "output_type": "display_data"
    },
    {
     "data": {
      "text/html": [
       "<pre style=\"white-space:pre;overflow-x:auto;line-height:normal;font-family:Menlo,'DejaVu Sans Mono',consolas,'Courier New',monospace\"><span style=\"font-weight: bold\"> Non-trainable params: </span><span style=\"color: #00af00; text-decoration-color: #00af00\">448</span> (1.75 KB)\n",
       "</pre>\n"
      ],
      "text/plain": [
       "\u001b[1m Non-trainable params: \u001b[0m\u001b[38;5;34m448\u001b[0m (1.75 KB)\n"
      ]
     },
     "metadata": {},
     "output_type": "display_data"
    }
   ],
   "source": [
    "model = Sequential()\n",
    "\n",
    "model.add(Conv2D(32, (3, 3), padding='same', activation='relu', input_shape=(150, 150, 1)))\n",
    "model.add(BatchNormalization())\n",
    "model.add(MaxPooling2D(2, 2))\n",
    "\n",
    "model.add(Conv2D(64, (3, 3), padding='same', activation='relu'))\n",
    "model.add(BatchNormalization())\n",
    "model.add(MaxPooling2D(2, 2))\n",
    "\n",
    "model.add(Conv2D(128, (3, 3), padding='same', activation='relu'))\n",
    "model.add(BatchNormalization())\n",
    "model.add(MaxPooling2D(2, 2))\n",
    "\n",
    "model.add(Flatten())\n",
    "model.add(Dense(256, activation='relu'))\n",
    "model.add(Dropout(0.5))\n",
    "model.add(Dense(64, activation='relu'))\n",
    "model.add(Dropout(0.3))\n",
    "model.add(Dense(1, activation='sigmoid'))\n",
    "\n",
    "model.compile(optimizer='adam', loss='binary_crossentropy', metrics=['accuracy'])\n",
    "\n",
    "model.summary()"
   ]
  },
  {
   "cell_type": "markdown",
   "id": "5593b693",
   "metadata": {},
   "source": [
    "Menambahkan callback untuk mengoptimalkan proses pelatihan"
   ]
  },
  {
   "cell_type": "code",
   "execution_count": 13,
   "id": "9bdb5811",
   "metadata": {},
   "outputs": [],
   "source": [
    "class EarlyStoppingAtEpoch(Callback):\n",
    "    def __init__(self, stop_epoch=20):\n",
    "        super(EarlyStoppingAtEpoch, self).__init__()\n",
    "        self.stop_epoch = stop_epoch\n",
    "\n",
    "    def on_epoch_end(self, epoch, logs=None):\n",
    "        if epoch + 1 >= self.stop_epoch:\n",
    "            print(f\"\\nStopping training at epoch {epoch + 1}\")\n",
    "            self.model.stop_training = True\n",
    "\n",
    "\n",
    "callbacks = [\n",
    "    ModelCheckpoint('best_model.h5', monitor='val_loss', save_best_only=True, verbose=1),\n",
    "    ReduceLROnPlateau(monitor='val_loss', factor=0.5, patience=2, verbose=1),\n",
    "    EarlyStoppingAtEpoch(stop_epoch=30)\n",
    "]"
   ]
  },
  {
   "cell_type": "markdown",
   "id": "e7b71c7a",
   "metadata": {},
   "source": [
    "Lanjut menghitung class weights"
   ]
  },
  {
   "cell_type": "code",
   "execution_count": 14,
   "id": "f3cca086",
   "metadata": {},
   "outputs": [],
   "source": [
    "cat_count = len(os.listdir('datasets/train/Cat'))\n",
    "dog_count = len(os.listdir('datasets/train/Dog'))\n",
    "\n",
    "total = cat_count + dog_count\n",
    "weight_cat = (1 / cat_count) * total / 2.0\n",
    "weight_dog = (1 / dog_count) * total / 2.0\n",
    "\n",
    "class_weights = {0: weight_cat, 1: weight_dog}"
   ]
  },
  {
   "cell_type": "markdown",
   "id": "a74c24f0",
   "metadata": {},
   "source": [
    "Mulai training Model menggunakan 30 epoch (karena saya mengejar akurasi tinggi diatas 95%)"
   ]
  },
  {
   "cell_type": "code",
   "execution_count": 15,
   "id": "c2ea19bc",
   "metadata": {},
   "outputs": [
    {
     "name": "stderr",
     "output_type": "stream",
     "text": [
      "d:\\PROJECT\\SIB DBS FOUNDATION\\submission klasifikasi gambar rev3\\submissionFiqi\\.env39\\lib\\site-packages\\keras\\src\\trainers\\data_adapters\\py_dataset_adapter.py:121: UserWarning: Your `PyDataset` class should call `super().__init__(**kwargs)` in its constructor. `**kwargs` can include `workers`, `use_multiprocessing`, `max_queue_size`. Do not pass these arguments to `fit()`, as they will be ignored.\n",
      "  self._warn_if_super_not_called()\n"
     ]
    },
    {
     "name": "stdout",
     "output_type": "stream",
     "text": [
      "Epoch 1/30\n",
      "\u001b[1m328/546\u001b[0m \u001b[32m━━━━━━━━━━━━\u001b[0m\u001b[37m━━━━━━━━\u001b[0m \u001b[1m4:13\u001b[0m 1s/step - accuracy: 0.5303 - loss: 2.7038"
     ]
    },
    {
     "name": "stderr",
     "output_type": "stream",
     "text": [
      "d:\\PROJECT\\SIB DBS FOUNDATION\\submission klasifikasi gambar rev3\\submissionFiqi\\.env39\\lib\\site-packages\\PIL\\TiffImagePlugin.py:950: UserWarning: Truncated File Read\n",
      "  warnings.warn(str(msg))\n"
     ]
    },
    {
     "name": "stdout",
     "output_type": "stream",
     "text": [
      "\u001b[1m546/546\u001b[0m \u001b[32m━━━━━━━━━━━━━━━━━━━━\u001b[0m\u001b[37m\u001b[0m \u001b[1m0s\u001b[0m 1s/step - accuracy: 0.5343 - loss: 2.1937\n",
      "Epoch 1: val_loss improved from inf to 0.66410, saving model to best_model.h5\n"
     ]
    },
    {
     "name": "stderr",
     "output_type": "stream",
     "text": [
      "WARNING:absl:You are saving your model as an HDF5 file via `model.save()` or `keras.saving.save_model(model)`. This file format is considered legacy. We recommend using instead the native Keras format, e.g. `model.save('my_model.keras')` or `keras.saving.save_model(model, 'my_model.keras')`. \n"
     ]
    },
    {
     "name": "stdout",
     "output_type": "stream",
     "text": [
      "\u001b[1m546/546\u001b[0m \u001b[32m━━━━━━━━━━━━━━━━━━━━\u001b[0m\u001b[37m\u001b[0m \u001b[1m714s\u001b[0m 1s/step - accuracy: 0.5343 - loss: 2.1921 - val_accuracy: 0.6220 - val_loss: 0.6641 - learning_rate: 0.0010\n",
      "Epoch 2/30\n",
      "\u001b[1m546/546\u001b[0m \u001b[32m━━━━━━━━━━━━━━━━━━━━\u001b[0m\u001b[37m\u001b[0m \u001b[1m0s\u001b[0m 1s/step - accuracy: 0.6106 - loss: 0.6565\n",
      "Epoch 2: val_loss did not improve from 0.66410\n",
      "\u001b[1m546/546\u001b[0m \u001b[32m━━━━━━━━━━━━━━━━━━━━\u001b[0m\u001b[37m\u001b[0m \u001b[1m609s\u001b[0m 1s/step - accuracy: 0.6106 - loss: 0.6564 - val_accuracy: 0.5732 - val_loss: 0.6928 - learning_rate: 0.0010\n",
      "Epoch 3/30\n",
      "\u001b[1m546/546\u001b[0m \u001b[32m━━━━━━━━━━━━━━━━━━━━\u001b[0m\u001b[37m\u001b[0m \u001b[1m0s\u001b[0m 1s/step - accuracy: 0.6969 - loss: 0.5890\n",
      "Epoch 3: val_loss improved from 0.66410 to 0.54641, saving model to best_model.h5\n"
     ]
    },
    {
     "name": "stderr",
     "output_type": "stream",
     "text": [
      "WARNING:absl:You are saving your model as an HDF5 file via `model.save()` or `keras.saving.save_model(model)`. This file format is considered legacy. We recommend using instead the native Keras format, e.g. `model.save('my_model.keras')` or `keras.saving.save_model(model, 'my_model.keras')`. \n"
     ]
    },
    {
     "name": "stdout",
     "output_type": "stream",
     "text": [
      "\u001b[1m546/546\u001b[0m \u001b[32m━━━━━━━━━━━━━━━━━━━━\u001b[0m\u001b[37m\u001b[0m \u001b[1m620s\u001b[0m 1s/step - accuracy: 0.6969 - loss: 0.5890 - val_accuracy: 0.7128 - val_loss: 0.5464 - learning_rate: 0.0010\n",
      "Epoch 4/30\n",
      "\u001b[1m546/546\u001b[0m \u001b[32m━━━━━━━━━━━━━━━━━━━━\u001b[0m\u001b[37m\u001b[0m \u001b[1m0s\u001b[0m 1s/step - accuracy: 0.7605 - loss: 0.5116\n",
      "Epoch 4: val_loss did not improve from 0.54641\n",
      "\u001b[1m546/546\u001b[0m \u001b[32m━━━━━━━━━━━━━━━━━━━━\u001b[0m\u001b[37m\u001b[0m \u001b[1m586s\u001b[0m 1s/step - accuracy: 0.7605 - loss: 0.5116 - val_accuracy: 0.6916 - val_loss: 0.5571 - learning_rate: 0.0010\n",
      "Epoch 5/30\n",
      "\u001b[1m546/546\u001b[0m \u001b[32m━━━━━━━━━━━━━━━━━━━━\u001b[0m\u001b[37m\u001b[0m \u001b[1m0s\u001b[0m 946ms/step - accuracy: 0.7984 - loss: 0.4515\n",
      "Epoch 5: val_loss improved from 0.54641 to 0.49324, saving model to best_model.h5\n"
     ]
    },
    {
     "name": "stderr",
     "output_type": "stream",
     "text": [
      "WARNING:absl:You are saving your model as an HDF5 file via `model.save()` or `keras.saving.save_model(model)`. This file format is considered legacy. We recommend using instead the native Keras format, e.g. `model.save('my_model.keras')` or `keras.saving.save_model(model, 'my_model.keras')`. \n"
     ]
    },
    {
     "name": "stdout",
     "output_type": "stream",
     "text": [
      "\u001b[1m546/546\u001b[0m \u001b[32m━━━━━━━━━━━━━━━━━━━━\u001b[0m\u001b[37m\u001b[0m \u001b[1m543s\u001b[0m 994ms/step - accuracy: 0.7984 - loss: 0.4515 - val_accuracy: 0.7760 - val_loss: 0.4932 - learning_rate: 0.0010\n",
      "Epoch 6/30\n",
      "\u001b[1m546/546\u001b[0m \u001b[32m━━━━━━━━━━━━━━━━━━━━\u001b[0m\u001b[37m\u001b[0m \u001b[1m0s\u001b[0m 938ms/step - accuracy: 0.8366 - loss: 0.3792\n",
      "Epoch 6: val_loss did not improve from 0.49324\n",
      "\u001b[1m546/546\u001b[0m \u001b[32m━━━━━━━━━━━━━━━━━━━━\u001b[0m\u001b[37m\u001b[0m \u001b[1m538s\u001b[0m 986ms/step - accuracy: 0.8366 - loss: 0.3791 - val_accuracy: 0.7730 - val_loss: 0.5051 - learning_rate: 0.0010\n",
      "Epoch 7/30\n",
      "\u001b[1m546/546\u001b[0m \u001b[32m━━━━━━━━━━━━━━━━━━━━\u001b[0m\u001b[37m\u001b[0m \u001b[1m0s\u001b[0m 930ms/step - accuracy: 0.8683 - loss: 0.3138\n",
      "Epoch 7: val_loss improved from 0.49324 to 0.43736, saving model to best_model.h5\n"
     ]
    },
    {
     "name": "stderr",
     "output_type": "stream",
     "text": [
      "WARNING:absl:You are saving your model as an HDF5 file via `model.save()` or `keras.saving.save_model(model)`. This file format is considered legacy. We recommend using instead the native Keras format, e.g. `model.save('my_model.keras')` or `keras.saving.save_model(model, 'my_model.keras')`. \n"
     ]
    },
    {
     "name": "stdout",
     "output_type": "stream",
     "text": [
      "\u001b[1m546/546\u001b[0m \u001b[32m━━━━━━━━━━━━━━━━━━━━\u001b[0m\u001b[37m\u001b[0m \u001b[1m534s\u001b[0m 977ms/step - accuracy: 0.8683 - loss: 0.3138 - val_accuracy: 0.7920 - val_loss: 0.4374 - learning_rate: 0.0010\n",
      "Epoch 8/30\n",
      "\u001b[1m546/546\u001b[0m \u001b[32m━━━━━━━━━━━━━━━━━━━━\u001b[0m\u001b[37m\u001b[0m \u001b[1m0s\u001b[0m 929ms/step - accuracy: 0.9057 - loss: 0.2314\n",
      "Epoch 8: val_loss improved from 0.43736 to 0.39327, saving model to best_model.h5\n"
     ]
    },
    {
     "name": "stderr",
     "output_type": "stream",
     "text": [
      "WARNING:absl:You are saving your model as an HDF5 file via `model.save()` or `keras.saving.save_model(model)`. This file format is considered legacy. We recommend using instead the native Keras format, e.g. `model.save('my_model.keras')` or `keras.saving.save_model(model, 'my_model.keras')`. \n"
     ]
    },
    {
     "name": "stdout",
     "output_type": "stream",
     "text": [
      "\u001b[1m546/546\u001b[0m \u001b[32m━━━━━━━━━━━━━━━━━━━━\u001b[0m\u001b[37m\u001b[0m \u001b[1m533s\u001b[0m 975ms/step - accuracy: 0.9057 - loss: 0.2314 - val_accuracy: 0.8242 - val_loss: 0.3933 - learning_rate: 0.0010\n",
      "Epoch 9/30\n",
      "\u001b[1m546/546\u001b[0m \u001b[32m━━━━━━━━━━━━━━━━━━━━\u001b[0m\u001b[37m\u001b[0m \u001b[1m0s\u001b[0m 931ms/step - accuracy: 0.9366 - loss: 0.1695\n",
      "Epoch 9: val_loss did not improve from 0.39327\n",
      "\u001b[1m546/546\u001b[0m \u001b[32m━━━━━━━━━━━━━━━━━━━━\u001b[0m\u001b[37m\u001b[0m \u001b[1m536s\u001b[0m 981ms/step - accuracy: 0.9366 - loss: 0.1696 - val_accuracy: 0.7546 - val_loss: 0.7000 - learning_rate: 0.0010\n",
      "Epoch 10/30\n",
      "\u001b[1m546/546\u001b[0m \u001b[32m━━━━━━━━━━━━━━━━━━━━\u001b[0m\u001b[37m\u001b[0m \u001b[1m0s\u001b[0m 1s/step - accuracy: 0.9535 - loss: 0.1243\n",
      "Epoch 10: val_loss did not improve from 0.39327\n",
      "\n",
      "Epoch 10: ReduceLROnPlateau reducing learning rate to 0.0005000000237487257.\n",
      "\u001b[1m546/546\u001b[0m \u001b[32m━━━━━━━━━━━━━━━━━━━━\u001b[0m\u001b[37m\u001b[0m \u001b[1m661s\u001b[0m 1s/step - accuracy: 0.9535 - loss: 0.1243 - val_accuracy: 0.8662 - val_loss: 0.4141 - learning_rate: 0.0010\n",
      "Epoch 11/30\n",
      "\u001b[1m546/546\u001b[0m \u001b[32m━━━━━━━━━━━━━━━━━━━━\u001b[0m\u001b[37m\u001b[0m \u001b[1m0s\u001b[0m 1s/step - accuracy: 0.9751 - loss: 0.0757\n",
      "Epoch 11: val_loss did not improve from 0.39327\n",
      "\u001b[1m546/546\u001b[0m \u001b[32m━━━━━━━━━━━━━━━━━━━━\u001b[0m\u001b[37m\u001b[0m \u001b[1m640s\u001b[0m 1s/step - accuracy: 0.9751 - loss: 0.0757 - val_accuracy: 0.8810 - val_loss: 0.4735 - learning_rate: 5.0000e-04\n",
      "Epoch 12/30\n",
      "\u001b[1m546/546\u001b[0m \u001b[32m━━━━━━━━━━━━━━━━━━━━\u001b[0m\u001b[37m\u001b[0m \u001b[1m0s\u001b[0m 1s/step - accuracy: 0.9836 - loss: 0.0483\n",
      "Epoch 12: val_loss did not improve from 0.39327\n",
      "\n",
      "Epoch 12: ReduceLROnPlateau reducing learning rate to 0.0002500000118743628.\n",
      "\u001b[1m546/546\u001b[0m \u001b[32m━━━━━━━━━━━━━━━━━━━━\u001b[0m\u001b[37m\u001b[0m \u001b[1m632s\u001b[0m 1s/step - accuracy: 0.9836 - loss: 0.0483 - val_accuracy: 0.8794 - val_loss: 0.4923 - learning_rate: 5.0000e-04\n",
      "Epoch 13/30\n",
      "\u001b[1m546/546\u001b[0m \u001b[32m━━━━━━━━━━━━━━━━━━━━\u001b[0m\u001b[37m\u001b[0m \u001b[1m0s\u001b[0m 1s/step - accuracy: 0.9912 - loss: 0.0254\n",
      "Epoch 13: val_loss did not improve from 0.39327\n",
      "\u001b[1m546/546\u001b[0m \u001b[32m━━━━━━━━━━━━━━━━━━━━\u001b[0m\u001b[37m\u001b[0m \u001b[1m588s\u001b[0m 1s/step - accuracy: 0.9912 - loss: 0.0254 - val_accuracy: 0.8918 - val_loss: 0.4736 - learning_rate: 2.5000e-04\n",
      "Epoch 14/30\n",
      "\u001b[1m546/546\u001b[0m \u001b[32m━━━━━━━━━━━━━━━━━━━━\u001b[0m\u001b[37m\u001b[0m \u001b[1m0s\u001b[0m 955ms/step - accuracy: 0.9936 - loss: 0.0206\n",
      "Epoch 14: val_loss did not improve from 0.39327\n",
      "\n",
      "Epoch 14: ReduceLROnPlateau reducing learning rate to 0.0001250000059371814.\n",
      "\u001b[1m546/546\u001b[0m \u001b[32m━━━━━━━━━━━━━━━━━━━━\u001b[0m\u001b[37m\u001b[0m \u001b[1m547s\u001b[0m 1s/step - accuracy: 0.9936 - loss: 0.0206 - val_accuracy: 0.8902 - val_loss: 0.5835 - learning_rate: 2.5000e-04\n",
      "Epoch 15/30\n",
      "\u001b[1m546/546\u001b[0m \u001b[32m━━━━━━━━━━━━━━━━━━━━\u001b[0m\u001b[37m\u001b[0m \u001b[1m0s\u001b[0m 950ms/step - accuracy: 0.9962 - loss: 0.0128\n",
      "Epoch 15: val_loss did not improve from 0.39327\n",
      "\u001b[1m546/546\u001b[0m \u001b[32m━━━━━━━━━━━━━━━━━━━━\u001b[0m\u001b[37m\u001b[0m \u001b[1m544s\u001b[0m 997ms/step - accuracy: 0.9962 - loss: 0.0128 - val_accuracy: 0.8922 - val_loss: 0.5325 - learning_rate: 1.2500e-04\n",
      "Epoch 16/30\n",
      "\u001b[1m546/546\u001b[0m \u001b[32m━━━━━━━━━━━━━━━━━━━━\u001b[0m\u001b[37m\u001b[0m \u001b[1m0s\u001b[0m 953ms/step - accuracy: 0.9960 - loss: 0.0118\n",
      "Epoch 16: val_loss did not improve from 0.39327\n",
      "\n",
      "Epoch 16: ReduceLROnPlateau reducing learning rate to 6.25000029685907e-05.\n",
      "\u001b[1m546/546\u001b[0m \u001b[32m━━━━━━━━━━━━━━━━━━━━\u001b[0m\u001b[37m\u001b[0m \u001b[1m547s\u001b[0m 1s/step - accuracy: 0.9960 - loss: 0.0118 - val_accuracy: 0.8914 - val_loss: 0.6825 - learning_rate: 1.2500e-04\n",
      "Epoch 17/30\n",
      "\u001b[1m546/546\u001b[0m \u001b[32m━━━━━━━━━━━━━━━━━━━━\u001b[0m\u001b[37m\u001b[0m \u001b[1m0s\u001b[0m 931ms/step - accuracy: 0.9972 - loss: 0.0089\n",
      "Epoch 17: val_loss did not improve from 0.39327\n",
      "\u001b[1m546/546\u001b[0m \u001b[32m━━━━━━━━━━━━━━━━━━━━\u001b[0m\u001b[37m\u001b[0m \u001b[1m533s\u001b[0m 976ms/step - accuracy: 0.9972 - loss: 0.0089 - val_accuracy: 0.8916 - val_loss: 0.5355 - learning_rate: 6.2500e-05\n",
      "Epoch 18/30\n",
      "\u001b[1m546/546\u001b[0m \u001b[32m━━━━━━━━━━━━━━━━━━━━\u001b[0m\u001b[37m\u001b[0m \u001b[1m0s\u001b[0m 924ms/step - accuracy: 0.9967 - loss: 0.0104\n",
      "Epoch 18: val_loss did not improve from 0.39327\n",
      "\n",
      "Epoch 18: ReduceLROnPlateau reducing learning rate to 3.125000148429535e-05.\n",
      "\u001b[1m546/546\u001b[0m \u001b[32m━━━━━━━━━━━━━━━━━━━━\u001b[0m\u001b[37m\u001b[0m \u001b[1m530s\u001b[0m 970ms/step - accuracy: 0.9967 - loss: 0.0104 - val_accuracy: 0.8908 - val_loss: 0.5726 - learning_rate: 6.2500e-05\n",
      "Epoch 19/30\n",
      "\u001b[1m546/546\u001b[0m \u001b[32m━━━━━━━━━━━━━━━━━━━━\u001b[0m\u001b[37m\u001b[0m \u001b[1m0s\u001b[0m 934ms/step - accuracy: 0.9979 - loss: 0.0075\n",
      "Epoch 19: val_loss did not improve from 0.39327\n",
      "\u001b[1m546/546\u001b[0m \u001b[32m━━━━━━━━━━━━━━━━━━━━\u001b[0m\u001b[37m\u001b[0m \u001b[1m536s\u001b[0m 981ms/step - accuracy: 0.9979 - loss: 0.0075 - val_accuracy: 0.8924 - val_loss: 0.5766 - learning_rate: 3.1250e-05\n",
      "Epoch 20/30\n",
      "\u001b[1m546/546\u001b[0m \u001b[32m━━━━━━━━━━━━━━━━━━━━\u001b[0m\u001b[37m\u001b[0m \u001b[1m0s\u001b[0m 924ms/step - accuracy: 0.9975 - loss: 0.0078\n",
      "Epoch 20: val_loss did not improve from 0.39327\n",
      "\n",
      "Epoch 20: ReduceLROnPlateau reducing learning rate to 1.5625000742147677e-05.\n",
      "\u001b[1m546/546\u001b[0m \u001b[32m━━━━━━━━━━━━━━━━━━━━\u001b[0m\u001b[37m\u001b[0m \u001b[1m530s\u001b[0m 971ms/step - accuracy: 0.9975 - loss: 0.0078 - val_accuracy: 0.8932 - val_loss: 0.6035 - learning_rate: 3.1250e-05\n",
      "Epoch 21/30\n",
      "\u001b[1m546/546\u001b[0m \u001b[32m━━━━━━━━━━━━━━━━━━━━\u001b[0m\u001b[37m\u001b[0m \u001b[1m0s\u001b[0m 865ms/step - accuracy: 0.9976 - loss: 0.0070\n",
      "Epoch 21: val_loss did not improve from 0.39327\n",
      "\u001b[1m546/546\u001b[0m \u001b[32m━━━━━━━━━━━━━━━━━━━━\u001b[0m\u001b[37m\u001b[0m \u001b[1m495s\u001b[0m 907ms/step - accuracy: 0.9976 - loss: 0.0070 - val_accuracy: 0.8928 - val_loss: 0.6001 - learning_rate: 1.5625e-05\n",
      "Epoch 22/30\n",
      "\u001b[1m546/546\u001b[0m \u001b[32m━━━━━━━━━━━━━━━━━━━━\u001b[0m\u001b[37m\u001b[0m \u001b[1m0s\u001b[0m 838ms/step - accuracy: 0.9979 - loss: 0.0085\n",
      "Epoch 22: val_loss did not improve from 0.39327\n",
      "\n",
      "Epoch 22: ReduceLROnPlateau reducing learning rate to 7.812500371073838e-06.\n",
      "\u001b[1m546/546\u001b[0m \u001b[32m━━━━━━━━━━━━━━━━━━━━\u001b[0m\u001b[37m\u001b[0m \u001b[1m482s\u001b[0m 882ms/step - accuracy: 0.9979 - loss: 0.0085 - val_accuracy: 0.8930 - val_loss: 0.6067 - learning_rate: 1.5625e-05\n",
      "Epoch 23/30\n",
      "\u001b[1m546/546\u001b[0m \u001b[32m━━━━━━━━━━━━━━━━━━━━\u001b[0m\u001b[37m\u001b[0m \u001b[1m0s\u001b[0m 839ms/step - accuracy: 0.9979 - loss: 0.0074\n",
      "Epoch 23: val_loss did not improve from 0.39327\n",
      "\u001b[1m546/546\u001b[0m \u001b[32m━━━━━━━━━━━━━━━━━━━━\u001b[0m\u001b[37m\u001b[0m \u001b[1m482s\u001b[0m 883ms/step - accuracy: 0.9979 - loss: 0.0074 - val_accuracy: 0.8932 - val_loss: 0.6012 - learning_rate: 7.8125e-06\n",
      "Epoch 24/30\n",
      "\u001b[1m546/546\u001b[0m \u001b[32m━━━━━━━━━━━━━━━━━━━━\u001b[0m\u001b[37m\u001b[0m \u001b[1m0s\u001b[0m 837ms/step - accuracy: 0.9977 - loss: 0.0075\n",
      "Epoch 24: val_loss did not improve from 0.39327\n",
      "\n",
      "Epoch 24: ReduceLROnPlateau reducing learning rate to 3.906250185536919e-06.\n",
      "\u001b[1m546/546\u001b[0m \u001b[32m━━━━━━━━━━━━━━━━━━━━\u001b[0m\u001b[37m\u001b[0m \u001b[1m480s\u001b[0m 879ms/step - accuracy: 0.9977 - loss: 0.0075 - val_accuracy: 0.8924 - val_loss: 0.6083 - learning_rate: 7.8125e-06\n",
      "Epoch 25/30\n",
      "\u001b[1m546/546\u001b[0m \u001b[32m━━━━━━━━━━━━━━━━━━━━\u001b[0m\u001b[37m\u001b[0m \u001b[1m0s\u001b[0m 838ms/step - accuracy: 0.9974 - loss: 0.0075\n",
      "Epoch 25: val_loss did not improve from 0.39327\n",
      "\u001b[1m546/546\u001b[0m \u001b[32m━━━━━━━━━━━━━━━━━━━━\u001b[0m\u001b[37m\u001b[0m \u001b[1m481s\u001b[0m 881ms/step - accuracy: 0.9974 - loss: 0.0075 - val_accuracy: 0.8926 - val_loss: 0.6077 - learning_rate: 3.9063e-06\n",
      "Epoch 26/30\n",
      "\u001b[1m546/546\u001b[0m \u001b[32m━━━━━━━━━━━━━━━━━━━━\u001b[0m\u001b[37m\u001b[0m \u001b[1m0s\u001b[0m 842ms/step - accuracy: 0.9983 - loss: 0.0059\n",
      "Epoch 26: val_loss did not improve from 0.39327\n",
      "\n",
      "Epoch 26: ReduceLROnPlateau reducing learning rate to 1.9531250927684596e-06.\n",
      "\u001b[1m546/546\u001b[0m \u001b[32m━━━━━━━━━━━━━━━━━━━━\u001b[0m\u001b[37m\u001b[0m \u001b[1m483s\u001b[0m 884ms/step - accuracy: 0.9983 - loss: 0.0059 - val_accuracy: 0.8932 - val_loss: 0.6229 - learning_rate: 3.9063e-06\n",
      "Epoch 27/30\n",
      "\u001b[1m546/546\u001b[0m \u001b[32m━━━━━━━━━━━━━━━━━━━━\u001b[0m\u001b[37m\u001b[0m \u001b[1m0s\u001b[0m 838ms/step - accuracy: 0.9978 - loss: 0.0058\n",
      "Epoch 27: val_loss did not improve from 0.39327\n",
      "\u001b[1m546/546\u001b[0m \u001b[32m━━━━━━━━━━━━━━━━━━━━\u001b[0m\u001b[37m\u001b[0m \u001b[1m481s\u001b[0m 881ms/step - accuracy: 0.9978 - loss: 0.0058 - val_accuracy: 0.8926 - val_loss: 0.6151 - learning_rate: 1.9531e-06\n",
      "Epoch 28/30\n",
      "\u001b[1m546/546\u001b[0m \u001b[32m━━━━━━━━━━━━━━━━━━━━\u001b[0m\u001b[37m\u001b[0m \u001b[1m0s\u001b[0m 838ms/step - accuracy: 0.9971 - loss: 0.0082\n",
      "Epoch 28: val_loss did not improve from 0.39327\n",
      "\n",
      "Epoch 28: ReduceLROnPlateau reducing learning rate to 9.765625463842298e-07.\n",
      "\u001b[1m546/546\u001b[0m \u001b[32m━━━━━━━━━━━━━━━━━━━━\u001b[0m\u001b[37m\u001b[0m \u001b[1m481s\u001b[0m 881ms/step - accuracy: 0.9971 - loss: 0.0082 - val_accuracy: 0.8922 - val_loss: 0.6161 - learning_rate: 1.9531e-06\n",
      "Epoch 29/30\n",
      "\u001b[1m546/546\u001b[0m \u001b[32m━━━━━━━━━━━━━━━━━━━━\u001b[0m\u001b[37m\u001b[0m \u001b[1m0s\u001b[0m 840ms/step - accuracy: 0.9979 - loss: 0.0062\n",
      "Epoch 29: val_loss did not improve from 0.39327\n",
      "\u001b[1m546/546\u001b[0m \u001b[32m━━━━━━━━━━━━━━━━━━━━\u001b[0m\u001b[37m\u001b[0m \u001b[1m482s\u001b[0m 882ms/step - accuracy: 0.9979 - loss: 0.0062 - val_accuracy: 0.8924 - val_loss: 0.6167 - learning_rate: 9.7656e-07\n",
      "Epoch 30/30\n",
      "\u001b[1m546/546\u001b[0m \u001b[32m━━━━━━━━━━━━━━━━━━━━\u001b[0m\u001b[37m\u001b[0m \u001b[1m0s\u001b[0m 838ms/step - accuracy: 0.9980 - loss: 0.0074\n",
      "Epoch 30: val_loss did not improve from 0.39327\n",
      "\n",
      "Epoch 30: ReduceLROnPlateau reducing learning rate to 4.882812731921149e-07.\n",
      "\n",
      "Stopping training at epoch 30\n",
      "\u001b[1m546/546\u001b[0m \u001b[32m━━━━━━━━━━━━━━━━━━━━\u001b[0m\u001b[37m\u001b[0m \u001b[1m482s\u001b[0m 882ms/step - accuracy: 0.9980 - loss: 0.0074 - val_accuracy: 0.8926 - val_loss: 0.6180 - learning_rate: 9.7656e-07\n"
     ]
    }
   ],
   "source": [
    "history = model.fit(\n",
    "    train_generator,\n",
    "    validation_data=validation_generator,\n",
    "    epochs=30,\n",
    "    class_weight = class_weights,\n",
    "    callbacks = callbacks\n",
    ")"
   ]
  },
  {
   "cell_type": "code",
   "execution_count": 16,
   "id": "8cc43599",
   "metadata": {},
   "outputs": [
    {
     "name": "stdout",
     "output_type": "stream",
     "text": [
      "\u001b[1m79/79\u001b[0m \u001b[32m━━━━━━━━━━━━━━━━━━━━\u001b[0m\u001b[37m\u001b[0m \u001b[1m34s\u001b[0m 439ms/step - accuracy: 0.8962 - loss: 0.7421\n",
      "Test Accuracy: 0.9116\n"
     ]
    }
   ],
   "source": [
    "test_loss, test_acc = model.evaluate(test_generator)\n",
    "print(f\"Test Accuracy: {test_acc:.4f}\")"
   ]
  },
  {
   "cell_type": "markdown",
   "id": "0647863f",
   "metadata": {},
   "source": [
    "Plot Akurasi"
   ]
  },
  {
   "cell_type": "code",
   "execution_count": 17,
   "id": "486dea82",
   "metadata": {},
   "outputs": [
    {
     "data": {
      "image/png": "[encoded data removed]",
      "text/plain": [
       "<Figure size 640x480 with 1 Axes>"
      ]
     },
     "metadata": {},
     "output_type": "display_data"
    },
    {
     "data": {
      "image/png": "[encoded data removed]",
      "text/plain": [
       "<Figure size 640x480 with 1 Axes>"
      ]
     },
     "metadata": {},
     "output_type": "display_data"
    }
   ],
   "source": [
    "\n",
    "plt.plot(history.history['accuracy'], label='Train Accuracy', color='blue')\n",
    "plt.plot(history.history['val_accuracy'], label='Val Accuracy', color='orange')\n",
    "plt.title('Accuracy over Epochs')\n",
    "plt.legend()\n",
    "plt.show()\n",
    "\n",
    "plt.plot(history.history['loss'], label='Train Loss', color='blue')\n",
    "plt.plot(history.history['val_loss'], label='Val Loss', color='orange')\n",
    "plt.title('Loss over Epochs')\n",
    "plt.legend()\n",
    "plt.show()"
   ]
  },
  {
   "cell_type": "markdown",
   "id": "af431380",
   "metadata": {},
   "source": [
    "Hasil classification report"
   ]
  },
  {
   "cell_type": "code",
   "execution_count": 18,
   "id": "a473dec6",
   "metadata": {},
   "outputs": [
    {
     "data": {
      "image/png": "[encoded data removed]",
      "text/plain": [
       "<Figure size 640x480 with 2 Axes>"
      ]
     },
     "metadata": {},
     "output_type": "display_data"
    },
    {
     "name": "stdout",
     "output_type": "stream",
     "text": [
      "              precision    recall  f1-score   support\n",
      "\n",
      "         Cat       0.92      0.90      0.91      1250\n",
      "         Dog       0.90      0.93      0.91      1250\n",
      "\n",
      "    accuracy                           0.91      2500\n",
      "   macro avg       0.91      0.91      0.91      2500\n",
      "weighted avg       0.91      0.91      0.91      2500\n",
      "\n"
     ]
    }
   ],
   "source": [
    "test_generator.reset()\n",
    "preds = model.predict(test_generator, verbose=0)\n",
    "preds_binary = (preds > 0.5).astype(int)\n",
    "\n",
    "cm = confusion_matrix(test_generator.classes, preds_binary)\n",
    "sns.heatmap(cm, annot=True, fmt='d', xticklabels=['Cat','Dog'], yticklabels=['Cat','Dog'])\n",
    "plt.xlabel('Predicted')\n",
    "plt.ylabel('Actual')\n",
    "plt.show()\n",
    "\n",
    "print(classification_report(test_generator.classes, preds_binary, target_names=['Cat','Dog']))"
   ]
  },
  {
   "cell_type": "markdown",
   "id": "70776394",
   "metadata": {},
   "source": [
    "Dihasilkan recall dengan point 0.98"
   ]
  },
  {
   "cell_type": "markdown",
   "id": "498e8c6f",
   "metadata": {},
   "source": [
    "Dikarenakan di Komputer saya terjadi crash instalasi tensorflowjs yang tidak bisa saya perbaiki. Jadi saya memutuskan untuk menggunakan google collab sebagai konverter save_model ke tfjs\n",
    "\n",
    "Maka model harus di save dulu ke saved_model"
   ]
  },
  {
   "cell_type": "code",
   "execution_count": 20,
   "id": "103e6a55",
   "metadata": {},
   "outputs": [
    {
     "name": "stdout",
     "output_type": "stream",
     "text": [
      "INFO:tensorflow:Assets written to: saved_model\\assets\n"
     ]
    },
    {
     "name": "stderr",
     "output_type": "stream",
     "text": [
      "INFO:tensorflow:Assets written to: saved_model\\assets\n"
     ]
    },
    {
     "name": "stdout",
     "output_type": "stream",
     "text": [
      "Saved artifact at 'saved_model'. The following endpoints are available:\n",
      "\n",
      "* Endpoint 'serve'\n",
      "  args_0 (POSITIONAL_ONLY): TensorSpec(shape=(None, 150, 150, 1), dtype=tf.float32, name='keras_tensor')\n",
      "Output Type:\n",
      "  TensorSpec(shape=(None, 1), dtype=tf.float32, name=None)\n",
      "Captures:\n",
      "  2454039679040: TensorSpec(shape=(), dtype=tf.resource, name=None)\n",
      "  2454039679392: TensorSpec(shape=(), dtype=tf.resource, name=None)\n",
      "  2454060974144: TensorSpec(shape=(), dtype=tf.resource, name=None)\n",
      "  2454060975200: TensorSpec(shape=(), dtype=tf.resource, name=None)\n",
      "  2454060899840: TensorSpec(shape=(), dtype=tf.resource, name=None)\n",
      "  2454060900016: TensorSpec(shape=(), dtype=tf.resource, name=None)\n",
      "  2454061044304: TensorSpec(shape=(), dtype=tf.resource, name=None)\n",
      "  2454061044128: TensorSpec(shape=(), dtype=tf.resource, name=None)\n",
      "  2454061026288: TensorSpec(shape=(), dtype=tf.resource, name=None)\n",
      "  2454047944768: TensorSpec(shape=(), dtype=tf.resource, name=None)\n",
      "  2454061025760: TensorSpec(shape=(), dtype=tf.resource, name=None)\n",
      "  2454061025936: TensorSpec(shape=(), dtype=tf.resource, name=None)\n",
      "  2454061108912: TensorSpec(shape=(), dtype=tf.resource, name=None)\n",
      "  2454061108560: TensorSpec(shape=(), dtype=tf.resource, name=None)\n",
      "  2454061136528: TensorSpec(shape=(), dtype=tf.resource, name=None)\n",
      "  2454061136880: TensorSpec(shape=(), dtype=tf.resource, name=None)\n",
      "  2454061136000: TensorSpec(shape=(), dtype=tf.resource, name=None)\n",
      "  2454061136176: TensorSpec(shape=(), dtype=tf.resource, name=None)\n",
      "  2454061228976: TensorSpec(shape=(), dtype=tf.resource, name=None)\n",
      "  2454061228800: TensorSpec(shape=(), dtype=tf.resource, name=None)\n",
      "  2454340712752: TensorSpec(shape=(), dtype=tf.resource, name=None)\n",
      "  2454340712576: TensorSpec(shape=(), dtype=tf.resource, name=None)\n",
      "  2454340838496: TensorSpec(shape=(), dtype=tf.resource, name=None)\n",
      "  2454340838320: TensorSpec(shape=(), dtype=tf.resource, name=None)\n"
     ]
    }
   ],
   "source": [
    "# Buat folder tujuan jika belum ada\n",
    "os.makedirs(\"saved_model\", exist_ok=True)\n",
    "\n",
    "# Simpan model ke format SavedModel (standar TensorFlow)\n",
    "model.export(\"saved_model\")"
   ]
  }
 ],
 "metadata": {
  "kernelspec": {
   "display_name": ".env39",
   "language": "python",
   "name": "python3"
  },
  "language_info": {
   "codemirror_mode": {
    "name": "ipython",
    "version": 3
   },
   "file_extension": ".py",
   "mimetype": "text/x-python",
   "name": "python",
   "nbconvert_exporter": "python",
   "pygments_lexer": "ipython3",
   "version": "3.9.12"
  }
 },
 "nbformat": 4,
 "nbformat_minor": 5
}
